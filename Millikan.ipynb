{
 "metadata": {
  "name": "",
  "signature": "sha256:e072abcc24437e38a0df11a898f792d626b3cc30373a2a0e4cdb5fe95fc78aab"
 },
 "nbformat": 3,
 "nbformat_minor": 0,
 "worksheets": [
  {
   "cells": [
    {
     "cell_type": "markdown",
     "metadata": {},
     "source": [
      "Name: Matthew Tripp\n",
      "\n",
      "StudentID: V00342079 \n",
      "\n",
      "Date: 21 Sep 2014\n",
      "\n",
      "\n",
      "\n",
      "Experiment 4: Millikan Oil Drop\n",
      "==============================\n",
      "\n",
      "Object:\n",
      "-------\n",
      "> To obtain data supportive of the quantized nature of charge, and attempt to obtain the fundamental charge of the electron using methods similar to that adopted by Robert Andrews Millikan in 1909.\n",
      "\n",
      "Theory:\n",
      "-------\n",
      "> Consider an oil droplet falling in air. One can make a reasonable approximation of the viscous force opposing the droplet. If the droplet is observed to be falling at a certain speed, one can then calculate the mass of the droplet. This assumes the droplets are extremely light (which they are in this case), so that they reach their terminal velocity quite quickly.\n",
      "\n",
      "> Stoke's Law provides an equation for the viscous force on a sphere of radius r moving with constant velocity. This can be adapted to use the velocity of the falling droplet in order to calculate the radius of each droplet:\n",
      "\n",
      "\\begin{align}\n",
      "v_g = \\frac{2r^2(pd - pa)g}{9n} (1 + \\frac{b}{pr})\n",
      "\\end{align}\n",
      "\n",
      "> Where pd and pa are the respective densities of the droplet and air, p and n are pressure and viscosity of air, g is the gravitational constant (9.81 m/s^2), and b is 6.17x10^-4 cm^2 (the last portion of the formula is a correction to Stoke's law due to the small size of the droplets). This results in a quadratic solution for r with one positive real value.\n",
      "\n",
      "> The radius of the drop allows us to calculate it's mass:\n",
      "\n",
      "\\begin{align}\n",
      "m = \\frac{4}{3}\\pi r^3 {(pd - pa)}\n",
      "\\end{align}\n",
      "\n",
      "> The forces on each drop will be proportional to the mass and the charge it carries. Giving us an equation for the charge on each droplet, n'q (number of charges multiplied by charge of an electron):\n",
      "\n",
      "\\begin{align}\n",
      "n'q = \\frac{mgx(v_g + v_f)}{v_g V}\n",
      "\\end{align}\n",
      "\n",
      "> Look for a lowest commmon factor from the data, this should correspond to the fundamental unit of charge. \n",
      "\n"
     ]
    },
    {
     "cell_type": "markdown",
     "metadata": {},
     "source": [
      "Apparatus:\n",
      "==========\n",
      "\n",
      "* Power Source with Control (for applying/reversing field)\n",
      "* Atomizer\n",
      "* Microscope\n",
      "* Video Camera\n",
      "* Video Display\n",
      "* Stopwatch\n",
      "* Laser\n",
      "* Millikan Oil Drop Chamber (includes charged plates)\n",
      "* Radioactive Source\n",
      "\n",
      "Diagram:\n",
      "========\n",
      "A manual sketch of the apparatus has been provided. See appendix A.\n",
      "\n",
      "Procedure:\n",
      "==========\n",
      "> Align the laser with the hole in the center of the chamber, so it will highlight the droplets as they fall. Ensure the camera is in focus (this was done with a needle).\n",
      "\n",
      "> Spray droplets into the upper portion of the chamber. The tiny central hole will allow droplets which are falling vertically to filter into the lower portion of the chamber.\n",
      "\n",
      "> As the droplets fall, periodically apply a potential diffence in both directions to the plates enclosing the lower chamber. When a droplet which is small enough and carrying enough charge reverses direction in the electric field, you have a possible trial. Record the time it takes the droplet to fall 1mm under gravity, then record the time it takes the droplet to rise 1mm under the electric field.\n",
      "\n",
      "> Apply a radioactive source to the chamber without a field present. Re-time the rising speed of the droplet. If the velocity changes, the droplet has added/lost charge.\n",
      "\n",
      "> Using the values obtained from multiple droplets, calculate the relative speed in the field vs gravity. It should be possible to find a lowest common factor with respect to the charge on the droplets, which will correspond to the charge on a single electron.\n",
      "\n"
     ]
    },
    {
     "cell_type": "code",
     "collapsed": false,
     "input": [
      "Data:\n",
      "=====\n",
      "\n",
      "pa: 1.208 kg/m^3 (density of air)\n",
      "\n",
      "pd: 858.9 kg/m^3 +/- 0.4 (density of oil)\n",
      "\n",
      "p: 772 cmHg +/- 1 (air pressure)\n",
      "\n",
      "n: 182 Ns/m^2 +/- 1 (viscosity of air)\n",
      "\n",
      "V: 1800 V +/- 5% (potential difference applied to the plates)\n",
      "\n",
      "x: 0.0802 m +/- 0.0001 (distance between the plates)\n",
      "\n",
      "\n",
      "| Trial Droplet | Time Under Gravity (+/-0.05) | Time Under Electric Field (+/-0.05)|\n",
      "|-------|:------------------------------|:----------------------------------|\n",
      "| 1 |  13.88 |  3.72 |\n",
      "|   |   | 1.53  |\n",
      "|   |   |  1.22 |\n",
      "|   |   |  2.31 |\n",
      "| 3 |  14.25 |  11.72 |\n",
      "|   |   |  9.28 |\n",
      "|   |   |  4.87 |\n",
      "|   |   |  3.71 |\n",
      "| 18 |  8.06 |  13.00 |\n",
      "|  |   |  12.31 |\n",
      "|  |   |  3.37 |\n",
      "|  |   |  5.57 |\n",
      "|  |   |  5.25 |\n",
      "\n",
      "(raw data is attached at the rear of this report)\n",
      "\n",
      "Calculations:\n",
      "=============\n",
      "A manual example of the experiment calculations has been provided. See appendix B."
     ],
     "language": "python",
     "metadata": {},
     "outputs": []
    },
    {
     "cell_type": "code",
     "collapsed": false,
     "input": [
      "%matplotlib inline\n",
      "import numpy as np\n",
      "import math as math\n",
      "import matplotlib.pyplot as plt"
     ],
     "language": "python",
     "metadata": {},
     "outputs": [],
     "prompt_number": 36
    },
    {
     "cell_type": "code",
     "collapsed": false,
     "input": [
      "def velocity(t):\n",
      "    v = 0.001/t\n",
      "    return v"
     ],
     "language": "python",
     "metadata": {},
     "outputs": [],
     "prompt_number": 37
    },
    {
     "cell_type": "code",
     "collapsed": false,
     "input": [
      "def radius(vg):\n",
      "    pd = 858.9        # kg/m^3\n",
      "    pa = 1.208        # kg/m^3\n",
      "    g = 9.81          # m/s^2\n",
      "    b = 6.17e-10      # m^2\n",
      "    p = 77.2          # m of Hg\n",
      "    n = 0.000182         # Ns/m^2\n",
      "    u = 2*(pd - pa)*g/(9*n)\n",
      " \n",
      "    r = (-u*b + math.sqrt(u**2*b**2 + 4*vg*u*p**2))/(2*u*p)\n",
      "    return r"
     ],
     "language": "python",
     "metadata": {},
     "outputs": [],
     "prompt_number": 38
    },
    {
     "cell_type": "code",
     "collapsed": false,
     "input": [
      "def mass(r):\n",
      "    pd = 858.9        # kg/m^3\n",
      "    pa = 1.208        # kg/m^3\n",
      "    pi = 3.1415\n",
      "    \n",
      "    m = 4*pi*r**3*(pd - pa)/3\n",
      "    return m"
     ],
     "language": "python",
     "metadata": {},
     "outputs": [],
     "prompt_number": 39
    },
    {
     "cell_type": "code",
     "collapsed": false,
     "input": [
      "def charge(m, vfg):\n",
      "    v = 1800          # V\n",
      "    x = 0.000802      # m\n",
      "    g = 9.81          # m/s^2\n",
      "    \n",
      "    q = (m*g*x/v)*vfg  \n",
      "    return q"
     ],
     "language": "python",
     "metadata": {},
     "outputs": [],
     "prompt_number": 40
    },
    {
     "cell_type": "code",
     "collapsed": false,
     "input": [
      "d1 = {'tg': 13.88, 'tv': {3.72, 2.31, 1.53, 1.22}}\n",
      "d2 = {'tg': 14.25, 'tv': {11.72, 9.28, 4.87, 3.71}}\n",
      "d3 = {'tg': 8.06, 'tv': {13.00, 12.31, 5.57, 5.25, 3.37}}\n",
      "\n",
      "n1 = [24, 20, 14, 10]\n",
      "n2 = [10, 8, 5, 4]\n",
      "n3 = [7, 5, 5, 3, 3]\n",
      "\n",
      "vr1 = []\n",
      "vg1 = velocity(d1['tg'])\n",
      "r1 = radius(vg1)\n",
      "m1 = mass(r1)\n",
      "vr1 = []\n",
      "for i, t in enumerate(sorted(d1['tv'])):\n",
      "    vr1.insert(i, (1 + velocity(t)/vg1)) \n",
      "    \n",
      "vr2 = []\n",
      "vg2 = velocity(d2['tg'])\n",
      "r2 = radius(vg2)\n",
      "m2 = mass(r2)\n",
      "for i, t in enumerate(sorted(d2['tv'])):\n",
      "    vr2.insert(i, (1 + velocity(t)/vg2))\n",
      "    \n",
      "vr3 = []\n",
      "vg3 = velocity(d3['tg'])\n",
      "r3 = radius(vg3)\n",
      "m3 = mass(r3)\n",
      "for i, t in enumerate(sorted(d3['tv'])):\n",
      "    vr3.insert(i, (1 + velocity(t)/vg3))\n",
      "\n",
      "\n",
      "fig, ax = plt.subplots(figsize=(12,6))\n",
      "ax.plot(n1, vr1)\n",
      "ax.plot(n2, vr2)\n",
      "ax.plot(n3, vr3)"
     ],
     "language": "python",
     "metadata": {},
     "outputs": [
      {
       "metadata": {},
       "output_type": "pyout",
       "prompt_number": 41,
       "text": [
        "[<matplotlib.lines.Line2D at 0x7f59ee0a4810>]"
       ]
      },
      {
       "metadata": {},
       "output_type": "display_data",
       "png": "[encoded data removed]",
       "text": [
        "<matplotlib.figure.Figure at 0x7f59ee1ab490>"
       ]
      }
     ],
     "prompt_number": 41
    },
    {
     "cell_type": "code",
     "collapsed": false,
     "input": [
      "vfg1 = []\n",
      "for i, t in enumerate(sorted(d1['tv'])):\n",
      "    vfg1.insert(i, (1 + velocity(t)/vg1/n1[i]))\n",
      "    \n",
      "vfg2 = []\n",
      "for i, t in enumerate(sorted(d1['tv'])):\n",
      "    vfg2.insert(i, (1 + velocity(t)/vg2/n2[i]))\n",
      "    \n",
      "vfg3 = []\n",
      "for i, t in enumerate(sorted(d1['tv'])):\n",
      "    vfg3.insert(i, (1 + velocity(t)/vg3/n3[i]))\n",
      "\n",
      "ch1 = charge(m1, np.mean(vfg1))\n",
      "ch2 = charge(m2, np.mean(vfg2))\n",
      "ch3 = charge(m3, np.mean(vfg3))\n",
      "\n",
      "print ch1, ch2, ch3"
     ],
     "language": "python",
     "metadata": {},
     "outputs": [
      {
       "output_type": "stream",
       "stream": "stdout",
       "text": [
        "4.17741626193e-19 5.97373545546e-19 1.22206328828e-18\n"
       ]
      }
     ],
     "prompt_number": 42
    },
    {
     "cell_type": "markdown",
     "metadata": {},
     "source": [
      "Discussion:\n",
      "===========\n",
      "\n",
      ">The smallest result for charge obtained is 4.17e-19. The much larger mass of the third particle produces a result twice as large as the first two droplets: suggesting the values for N on this particle could be improperly scaled.\n",
      "\n",
      "Consistency Check:\n",
      "------------------\n",
      ">Result is inconsistent with known value for e.  This lab produced a result on the same order of magnitude, but over by a factor of 3 or 4 times. See sample calculations, Appendix B.\n",
      "\n",
      "Sources of Error:\n",
      "-----------------\n",
      "\n",
      ">According to the lab manual --and in the past-- a video recorder was used to time the droplets movement rather than a stopwatch. The human element of using a stopwatch to time the droplets not only makes this experiment much more difficult to execute, but it introduces higher error into the velocity calculation right away. It does however save time in conducting the experiment.\n",
      "\n",
      ">There is no way to accurately determine if the electric field is directly parrallel to the falling droplets. Any deviation is going to reduce the amount of force applied on the droplet.\n",
      "\n",
      ">We have relatively few trials for an experiment that took years, with hundreds of trials. A statistically more accurate result would be achieveable with thousands of droplets.\n",
      "\n",
      "Conclusion:\n",
      "===========\n",
      "\n",
      ">This was an extremely time consuming process, and brings new appreciation for the amount of effort Millikian went through in his initial experiment. The value achieved for e from this experiment was inconsistent with expectations.\n",
      "\n"
     ]
    },
    {
     "cell_type": "code",
     "collapsed": false,
     "input": [],
     "language": "python",
     "metadata": {},
     "outputs": [],
     "prompt_number": 42
    }
   ],
   "metadata": {}
  }
 ]
}